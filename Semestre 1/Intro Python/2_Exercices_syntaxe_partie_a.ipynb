{
 "cells": [
  {
   "cell_type": "markdown",
   "metadata": {},
   "source": [
    "**Ces exercices ont pour objectif de mettre en pratique la syntaxe python (cf cours Part A) tout en vous fournissant quelques connaissances supplémentaires (par exemple ici l'apprentissage du requêtage d'une API).**"
   ]
  },
  {
   "cell_type": "markdown",
   "metadata": {},
   "source": [
    "# Requêter une API depuis python"
   ]
  },
  {
   "cell_type": "markdown",
   "metadata": {},
   "source": [
    "## Exemple : l'API d'Open Food Facts"
   ]
  },
  {
   "cell_type": "markdown",
   "metadata": {
    "collapsed": true
   },
   "source": [
    "Récupérer la fiche produit 737628064502 d'Open Food Facts"
   ]
  },
  {
   "cell_type": "code",
   "execution_count": 1,
   "metadata": {},
   "outputs": [],
   "source": [
    "#Via le module requests, on fait une requête sur le net\n",
    "import requests \n",
    "r = requests.get('https://world.openfoodfacts.org/api/v0/product/737628064502.json')"
   ]
  },
  {
   "cell_type": "code",
   "execution_count": 2,
   "metadata": {},
   "outputs": [
    {
     "name": "stdout",
     "output_type": "stream",
     "text": [
      "200\n",
      "application/json; charset=utf-8\n",
      "utf-8\n"
     ]
    }
   ],
   "source": [
    "#La réponse d'une API permet d'avoir plusieurs types d'informations : \n",
    "print('{}\\n{}\\n{}'.format(r.status_code,r.headers['content-type'], r.encoding))"
   ]
  },
  {
   "cell_type": "code",
   "execution_count": null,
   "metadata": {},
   "outputs": [],
   "source": [
    "#Celle qui nous intéresse le plus étant : \n",
    "r.content"
   ]
  },
  {
   "cell_type": "code",
   "execution_count": 4,
   "metadata": {},
   "outputs": [
    {
     "data": {
      "text/plain": [
       "bytes"
      ]
     },
     "execution_count": 4,
     "metadata": {},
     "output_type": "execute_result"
    }
   ],
   "source": [
    "#Question : à ce stade, quel est le type du contenu ? \n",
    "type(r.content)"
   ]
  },
  {
   "cell_type": "code",
   "execution_count": 5,
   "metadata": {},
   "outputs": [],
   "source": [
    "#Il faut donc le rendre plus \"exploitable\" en python et pour cela, plusieurs manières : \n",
    "\n",
    "#La maniere artisanale\n",
    "import json\n",
    "ma_reponse = json.loads(r.content) \n",
    "#Ou (methode 2)\n",
    "ma_reponse = json.loads(r.text)"
   ]
  },
  {
   "cell_type": "code",
   "execution_count": 6,
   "metadata": {},
   "outputs": [
    {
     "data": {
      "text/plain": [
       "dict"
      ]
     },
     "execution_count": 6,
     "metadata": {},
     "output_type": "execute_result"
    }
   ],
   "source": [
    "type(ma_reponse)"
   ]
  },
  {
   "cell_type": "code",
   "execution_count": 7,
   "metadata": {},
   "outputs": [],
   "source": [
    "#Alternative : \n",
    "a_reponse = r.json()"
   ]
  },
  {
   "cell_type": "markdown",
   "metadata": {},
   "source": [
    "## Questions"
   ]
  },
  {
   "cell_type": "markdown",
   "metadata": {},
   "source": [
    "**CONSIGNES** : Dans la partie qui suit, répondez à chaque question en détaillant le code qui vous permet d'affirmer votre réponse (exemple : pour la question 1, il ne faut pas simplement écrire `print('0737628064502')` mais écrire le code qui permet de récupérer la valeur du dictionnaire associés à la clef qui est utilisée pour enregistrer ce code"
   ]
  },
  {
   "cell_type": "markdown",
   "metadata": {},
   "source": [
    "### Question : quel est le code de ce produit ? (la clef...c'est \"code\")"
   ]
  },
  {
   "cell_type": "code",
   "execution_count": null,
   "metadata": {},
   "outputs": [],
   "source": []
  },
  {
   "cell_type": "markdown",
   "metadata": {},
   "source": [
    "#####  Y penser !"
   ]
  },
  {
   "cell_type": "markdown",
   "metadata": {
    "collapsed": true
   },
   "source": [
    "**Les fichiers JSON peuvent être \"parsés\" par différents outils et être ainsi plus lisibles** Il existe un certain nombre d'outils en lignes et des éditeurs de texte comme Notepad++ vous permettent \"nativement\" de lire du json \"proprement\""
   ]
  },
  {
   "cell_type": "markdown",
   "metadata": {},
   "source": [
    "### Question : Affichez les valeurs des données utilisées pour calculer le nutriscore "
   ]
  },
  {
   "cell_type": "markdown",
   "metadata": {},
   "source": [
    "Hint : cette information est stockée dans la clef 'nutriscore_data' du dictionnaire 'imbriquée' dans la clef 'produit"
   ]
  },
  {
   "cell_type": "code",
   "execution_count": null,
   "metadata": {},
   "outputs": [],
   "source": []
  },
  {
   "cell_type": "code",
   "execution_count": null,
   "metadata": {},
   "outputs": [],
   "source": []
  }
 ],
 "metadata": {
  "kernelspec": {
   "display_name": "Python 3",
   "language": "python",
   "name": "python3"
  },
  "language_info": {
   "codemirror_mode": {
    "name": "ipython",
    "version": 3
   },
   "file_extension": ".py",
   "mimetype": "text/x-python",
   "name": "python",
   "nbconvert_exporter": "python",
   "pygments_lexer": "ipython3",
   "version": "3.6.10"
  },
  "toc": {
   "base_numbering": 1,
   "nav_menu": {},
   "number_sections": true,
   "sideBar": true,
   "skip_h1_title": false,
   "title_cell": "Table of Contents",
   "title_sidebar": "Contents",
   "toc_cell": true,
   "toc_position": {
    "height": "calc(100% - 180px)",
    "left": "10px",
    "top": "150px",
    "width": "272px"
   },
   "toc_section_display": true,
   "toc_window_display": true
  }
 },
 "nbformat": 4,
 "nbformat_minor": 4
}
