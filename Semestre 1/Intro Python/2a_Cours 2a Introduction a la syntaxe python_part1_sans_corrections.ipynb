{
 "cells": [
  {
   "cell_type": "markdown",
   "metadata": {
    "toc": true
   },
   "source": [
    "<h1>Table of Contents<span class=\"tocSkip\"></span></h1>\n",
    "<div class=\"toc\"><ul class=\"toc-item\"><li><span><a href=\"#Rappel\" data-toc-modified-id=\"Rappel-1\"><span class=\"toc-item-num\">1&nbsp;&nbsp;</span>Rappel</a></span></li><li><span><a href=\"#Tour-d'horizon-de-la-syntaxe-python\" data-toc-modified-id=\"Tour-d'horizon-de-la-syntaxe-python-2\"><span class=\"toc-item-num\">2&nbsp;&nbsp;</span>Tour d'horizon de la syntaxe python</a></span></li><li><span><a href=\"#Exercices---car-c'est-en-sciant-que-Léonard-de-Vinci\" data-toc-modified-id=\"Exercices---car-c'est-en-sciant-que-Léonard-de-Vinci-3\"><span class=\"toc-item-num\">3&nbsp;&nbsp;</span>Exercices - car c'est en sciant que Léonard de Vinci</a></span><ul class=\"toc-item\"><li><ul class=\"toc-item\"><li><span><a href=\"#Ex-:-Calculatrice-(combien-font-5-+-10-?)\" data-toc-modified-id=\"Ex-:-Calculatrice-(combien-font-5-+-10-?)-3.0.1\"><span class=\"toc-item-num\">3.0.1&nbsp;&nbsp;</span>Ex : Calculatrice (combien font 5 + 10 ?)</a></span></li><li><span><a href=\"#Ex--:-Quel-résultat-si-on-incrémente-le-chiffre-de-2-d'une-unité-supplémentaire-?-puis-de-5-unités-?\" data-toc-modified-id=\"Ex--:-Quel-résultat-si-on-incrémente-le-chiffre-de-2-d'une-unité-supplémentaire-?-puis-de-5-unités-?-3.0.2\"><span class=\"toc-item-num\">3.0.2&nbsp;&nbsp;</span>Ex  : Quel résultat si on incrémente le chiffre de 2 d'une unité supplémentaire ? puis de 5 unités ?</a></span></li><li><span><a href=\"#Ex-:-Quelle-est-la-deuxième-lettre-du-mot-&quot;LETTRE&quot;-?-Quelles-sont-les-trois-dernières-lettres-du-mot-&quot;LETTRE&quot;-?\" data-toc-modified-id=\"Ex-:-Quelle-est-la-deuxième-lettre-du-mot-&quot;LETTRE&quot;-?-Quelles-sont-les-trois-dernières-lettres-du-mot-&quot;LETTRE&quot;-?-3.0.3\"><span class=\"toc-item-num\">3.0.3&nbsp;&nbsp;</span>Ex : Quelle est la deuxième lettre du mot \"LETTRE\" ? Quelles sont les trois dernières lettres du mot \"LETTRE\" ?</a></span></li><li><span><a href=\"#Ex-:-Comment-énumérer-efficacement-tous-les-nombres-entre-1-et-10-(sans-les-copier-à-la-main)-?\" data-toc-modified-id=\"Ex-:-Comment-énumérer-efficacement-tous-les-nombres-entre-1-et-10-(sans-les-copier-à-la-main)-?-3.0.4\"><span class=\"toc-item-num\">3.0.4&nbsp;&nbsp;</span>Ex : Comment énumérer efficacement tous les nombres entre 1 et 10 (sans les copier à la main) ?</a></span></li><li><span><a href=\"#Ex-:-Comment-ajouter-un-&quot;s&quot;-à-un-mot-inscrit-au-singulier-?\" data-toc-modified-id=\"Ex-:-Comment-ajouter-un-&quot;s&quot;-à-un-mot-inscrit-au-singulier-?-3.0.5\"><span class=\"toc-item-num\">3.0.5&nbsp;&nbsp;</span>Ex : Comment ajouter un \"s\" à un mot inscrit au singulier ?</a></span></li><li><span><a href=\"#Ex-:-Peut-on-ajouter-une-lettre-à-un-nombre-?\" data-toc-modified-id=\"Ex-:-Peut-on-ajouter-une-lettre-à-un-nombre-?-3.0.6\"><span class=\"toc-item-num\">3.0.6&nbsp;&nbsp;</span>Ex : Peut-on ajouter une lettre à un nombre ?</a></span></li><li><span><a href=\"#Ex-:-Comment-créer-un-test-pour-n'afficher-que-les-nombres-supérieurs-à-10-(et-10-sinon-?)\" data-toc-modified-id=\"Ex-:-Comment-créer-un-test-pour-n'afficher-que-les-nombres-supérieurs-à-10-(et-10-sinon-?)-3.0.7\"><span class=\"toc-item-num\">3.0.7&nbsp;&nbsp;</span>Ex : Comment créer un test pour n'afficher que les nombres supérieurs à 10 (et 10 sinon ?)</a></span></li><li><span><a href=\"#Ex-:-Comment-créer-un-test-pour-n'afficher-que-les-nombres-supérieurs-à-10-et-pairs-?\" data-toc-modified-id=\"Ex-:-Comment-créer-un-test-pour-n'afficher-que-les-nombres-supérieurs-à-10-et-pairs-?-3.0.8\"><span class=\"toc-item-num\">3.0.8&nbsp;&nbsp;</span>Ex : Comment créer un test pour n'afficher que les nombres supérieurs à 10 et pairs ?</a></span></li><li><span><a href=\"#Ex-:-Comment-créer-un-test-pour-vérifier-qu'une-proposition-est-juste-?\" data-toc-modified-id=\"Ex-:-Comment-créer-un-test-pour-vérifier-qu'une-proposition-est-juste-?-3.0.9\"><span class=\"toc-item-num\">3.0.9&nbsp;&nbsp;</span>Ex : Comment créer un test pour vérifier qu'une proposition est juste ?</a></span></li><li><span><a href=\"#Ex-:-Comment-changer-le-type-d'une-variable-?\" data-toc-modified-id=\"Ex-:-Comment-changer-le-type-d'une-variable-?-3.0.10\"><span class=\"toc-item-num\">3.0.10&nbsp;&nbsp;</span>Ex : Comment changer le type d'une variable ?</a></span></li><li><span><a href=\"#Ex-:-Comment-vérifier-si-un-élément-est-dans-une-liste\" data-toc-modified-id=\"Ex-:-Comment-vérifier-si-un-élément-est-dans-une-liste-3.0.11\"><span class=\"toc-item-num\">3.0.11&nbsp;&nbsp;</span>Ex : Comment vérifier si un élément est dans une liste</a></span></li><li><span><a href=\"#Ex-:-Comment-interagir-avec-une-chaine-de-caractère\" data-toc-modified-id=\"Ex-:-Comment-interagir-avec-une-chaine-de-caractère-3.0.12\"><span class=\"toc-item-num\">3.0.12&nbsp;&nbsp;</span>Ex : Comment interagir avec une chaine de caractère</a></span></li><li><span><a href=\"#Ex--:-Jouons-un-peu-avec-LA-LISTE-des-jours-de-la-semaine\" data-toc-modified-id=\"Ex--:-Jouons-un-peu-avec-LA-LISTE-des-jours-de-la-semaine-3.0.13\"><span class=\"toc-item-num\">3.0.13&nbsp;&nbsp;</span>Ex  : Jouons un peu avec LA LISTE des jours de la semaine</a></span></li><li><span><a href=\"#Ex-:-Comptons-les-nombres-impairs-jusqu'à-20-via-la-COMPREHENSION-DE-LISTE\" data-toc-modified-id=\"Ex-:-Comptons-les-nombres-impairs-jusqu'à-20-via-la-COMPREHENSION-DE-LISTE-3.0.14\"><span class=\"toc-item-num\">3.0.14&nbsp;&nbsp;</span>Ex : Comptons les nombres impairs jusqu'à 20 via la COMPREHENSION DE LISTE</a></span></li><li><span><a href=\"#Ex-:-Créez-un-DICTIONNAIRE-avec-comme-clef,-le-numéro-du-jour-de-la-semaine-et-en-valeur-le-nom-du-jour-correspondant\" data-toc-modified-id=\"Ex-:-Créez-un-DICTIONNAIRE-avec-comme-clef,-le-numéro-du-jour-de-la-semaine-et-en-valeur-le-nom-du-jour-correspondant-3.0.15\"><span class=\"toc-item-num\">3.0.15&nbsp;&nbsp;</span>Ex : Créez un DICTIONNAIRE avec comme clef, le numéro du jour de la semaine et en valeur le nom du jour correspondant</a></span></li><li><span><a href=\"#Les-tableaux-numeriques---bref-aperçu\" data-toc-modified-id=\"Les-tableaux-numeriques---bref-aperçu-3.0.16\"><span class=\"toc-item-num\">3.0.16&nbsp;&nbsp;</span>Les tableaux numeriques - bref aperçu</a></span></li><li><span><a href=\"#Ex-:-Comment-copier-une-variable,-une-liste,-etc.-?\" data-toc-modified-id=\"Ex-:-Comment-copier-une-variable,-une-liste,-etc.-?-3.0.17\"><span class=\"toc-item-num\">3.0.17&nbsp;&nbsp;</span>Ex : Comment copier une variable, une liste, etc. ?</a></span></li></ul></li><li><span><a href=\"#Différence-VALEUR-vs.-ADRESSE-/-REFERENCE\" data-toc-modified-id=\"Différence-VALEUR-vs.-ADRESSE-/-REFERENCE-3.1\"><span class=\"toc-item-num\">3.1&nbsp;&nbsp;</span>Différence VALEUR vs. ADRESSE / REFERENCE</a></span></li><li><span><a href=\"#TESTS-ET-BOUCLES\" data-toc-modified-id=\"TESTS-ET-BOUCLES-3.2\"><span class=\"toc-item-num\">3.2&nbsp;&nbsp;</span>TESTS ET BOUCLES</a></span><ul class=\"toc-item\"><li><span><a href=\"#Ex-:-Reprenons-notre-exemple-précédent-sur-les-listes-de-la-semaine\" data-toc-modified-id=\"Ex-:-Reprenons-notre-exemple-précédent-sur-les-listes-de-la-semaine-3.2.1\"><span class=\"toc-item-num\">3.2.1&nbsp;&nbsp;</span>Ex : Reprenons notre exemple précédent sur les listes de la semaine</a></span></li><li><span><a href=\"#Ex-:-Clef-/-valeur-dans-un-dictionnaire\" data-toc-modified-id=\"Ex-:-Clef-/-valeur-dans-un-dictionnaire-3.2.2\"><span class=\"toc-item-num\">3.2.2&nbsp;&nbsp;</span>Ex : Clef / valeur dans un dictionnaire</a></span></li><li><span><a href=\"#Ex-:-Ouvrons-notre-premier-fichier-en-python---et-travaillons-un-peu-nos-listes-/-dictionnaires\" data-toc-modified-id=\"Ex-:-Ouvrons-notre-premier-fichier-en-python---et-travaillons-un-peu-nos-listes-/-dictionnaires-3.2.3\"><span class=\"toc-item-num\">3.2.3&nbsp;&nbsp;</span>Ex : Ouvrons notre premier fichier en python - et travaillons un peu nos listes / dictionnaires</a></span></li><li><span><a href=\"#Remarques-sur-le-mot-clef-&quot;with&quot;\" data-toc-modified-id=\"Remarques-sur-le-mot-clef-&quot;with&quot;-3.2.4\"><span class=\"toc-item-num\">3.2.4&nbsp;&nbsp;</span>Remarques sur le mot clef \"with\"</a></span></li></ul></li><li><span><a href=\"#Librairie-os---Parce-qu'il-n'est-jamais-trop-tôt-pour-prendre-de-bonnes-habitudes\" data-toc-modified-id=\"Librairie-os---Parce-qu'il-n'est-jamais-trop-tôt-pour-prendre-de-bonnes-habitudes-3.3\"><span class=\"toc-item-num\">3.3&nbsp;&nbsp;</span>Librairie os - Parce qu'il n'est jamais trop tôt pour prendre de bonnes habitudes</a></span><ul class=\"toc-item\"><li><span><a href=\"#Ex:-Affichez-tous-les-éléments-contenus-dans-le-répertoire-courant\" data-toc-modified-id=\"Ex:-Affichez-tous-les-éléments-contenus-dans-le-répertoire-courant-3.3.1\"><span class=\"toc-item-num\">3.3.1&nbsp;&nbsp;</span>Ex: Affichez tous les éléments contenus dans le répertoire courant</a></span></li></ul></li><li><span><a href=\"#[Pour-aller-plus-loin]-Le-format-JSON\" data-toc-modified-id=\"[Pour-aller-plus-loin]-Le-format-JSON-3.4\"><span class=\"toc-item-num\">3.4&nbsp;&nbsp;</span>[Pour aller plus loin] Le format JSON</a></span><ul class=\"toc-item\"><li><span><a href=\"#JSON-!\" data-toc-modified-id=\"JSON-!-3.4.1\"><span class=\"toc-item-num\">3.4.1&nbsp;&nbsp;</span>JSON !</a></span></li></ul></li><li><span><a href=\"#[Pour-aller-plus-loin]-Les-PEP\" data-toc-modified-id=\"[Pour-aller-plus-loin]-Les-PEP-3.5\"><span class=\"toc-item-num\">3.5&nbsp;&nbsp;</span>[Pour aller plus loin] Les PEP</a></span></li></ul></li></ul></div>"
   ]
  },
  {
   "cell_type": "markdown",
   "metadata": {},
   "source": [
    "# Rappel"
   ]
  },
  {
   "cell_type": "markdown",
   "metadata": {},
   "source": [
    "**Nous avons appris** : \n",
    "\n",
    "    1) A naviguer un peu dans console (python, cd, C: ou D:, cd C:CePC.., cd ./Documents, etc.)\n",
    "    2) A lancer un jupyter notebook (entre autres)\n",
    "    3) A installer correctement (i.e. sur un environnement virtuel) les librairies python"
   ]
  },
  {
   "cell_type": "markdown",
   "metadata": {},
   "source": [
    "**Les questions qui ont été posées** : \n",
    "    \n",
    "    1) Qu'est ce qu'un \"Kernel\" ?\n",
    "    \n",
    "**Le Kernel est le \"coeur\" python sur lequel s'execute le notebook.** \n",
    "\n",
    "- Il peut donc se lancer (run d'une cellule) et s'arrêter (le \"stop\" du kernel, pratique en cas....de boucle infinie par exemple). \n",
    "\n",
    "- Il peut également se relancer (pour tout \"supprimer\" - y compris si nécessaire les sorties) et \"recommencer\"  à zéro (i.e. effacer toutes les variables).\n",
    "\n",
    "    2) Anaconda prompt pour MAC (mais également pour linux)\n",
    "\n",
    "**Anaconda prompt n'existe pas sous MAC/Linux**. Il faut donc utiliser simplement le terminal standard (en principe, Anaconda est bien configuré sous linux et MAC, python répond donc sans problème). "
   ]
  },
  {
   "cell_type": "markdown",
   "metadata": {},
   "source": [
    "# Tour d'horizon de la syntaxe python"
   ]
  },
  {
   "cell_type": "markdown",
   "metadata": {},
   "source": [
    "Les fondamentaux de la syntaxe python sont bien résumés dans un poly qui n'est plus maintenu mais qui reste globalement à jour (Xavier Dupré - ENSAE).  Il vous est fortement recommandé d'être curieux et d'aller fouiller sur le site de Xavier Dupré (une mine d'or !!!)\n",
    "\n",
    "**Dans une premier temps, nous allons nous concentrer sur les premières parties : langages, variables types modifiables, types immuables, tests et boucles**"
   ]
  },
  {
   "cell_type": "markdown",
   "metadata": {},
   "source": [
    "http://www.xavierdupre.fr/app/teachpyx/helpsphinx/c_resume/python_sheet.html#le-langage\n",
    "\n",
    "http://www.xavierdupre.fr/enseignement/initiation/resume_utile.pdf"
   ]
  },
  {
   "cell_type": "markdown",
   "metadata": {},
   "source": [
    "Rappels : \n",
    "\n",
    "- commenter du code (\"\"\" Ceci est un commentaire \"\"\", #Ceci est un commentaire)\n",
    "- Utilisez l'option \"markdown\" dans une cellule d'un dataframe pour tout ce qui n'est pas du code ;)"
   ]
  },
  {
   "cell_type": "code",
   "execution_count": 75,
   "metadata": {},
   "outputs": [
    {
     "name": "stdout",
     "output_type": "stream",
     "text": [
      "<class 'list'>\n",
      "1\n"
     ]
    }
   ],
   "source": [
    "#Rappel : les types de base\n",
    "\n",
    "i = 3                    # entier\n",
    "r = 3.3                  # réel\n",
    "s = \"exemple\"            # chaîne de caractères\n",
    "c = (4,5)                # couple de valeurs (ou tuple)\n",
    "l = [ 4, 5, 6.5]         # listes de valeurs ou tableaux\n",
    "x = l[0]                 # obtention du premier élément de la liste \n",
    "d = { \"un\":1, \"deux\":2 } # dictionnaire de valeurs\n",
    "y = d[\"un\"]              # obtention de la valeur associée à l’élément \"un\"\n",
    "couple = 4, 5            # collage de deux valeurs en un couple ou (tuple)\n",
    "print(type(l))           # on affiche le type de la variable l\n",
    "mat = [ [0,1], [2,3] ]   # liste de listes\n",
    "print(mat[0][1])         # obtention du second élément de la première liste\n",
    "n = None                 # None signifie que la variable existe mais qu’elle ne contient rien\n",
    "                         # elle est souvent utilisé pour signifier qu’il n’y a pas de résultat\n",
    "                         # car... une erreur s’est produite, une liste était vide"
   ]
  },
  {
   "cell_type": "markdown",
   "metadata": {},
   "source": [
    "A ne pas oublier : "
   ]
  },
  {
   "cell_type": "markdown",
   "metadata": {},
   "source": [
    "**INDENTATION** *INDENTATION* indentation **INDENTATION** *INDENTATION* indentation **INDENTATION** *INDENTATION* indentation"
   ]
  },
  {
   "cell_type": "markdown",
   "metadata": {},
   "source": [
    "# Exercices - car c'est en sciant que Léonard de Vinci"
   ]
  },
  {
   "cell_type": "markdown",
   "metadata": {},
   "source": [
    "*Ces exercices sont fortement inspirés (voire pour certains copiés) des exercices proposés par Xavier Dupré*"
   ]
  },
  {
   "cell_type": "markdown",
   "metadata": {},
   "source": [
    "###  Ex : Calculatrice (combien font 5 + 10 ?)"
   ]
  },
  {
   "cell_type": "code",
   "execution_count": null,
   "metadata": {},
   "outputs": [],
   "source": []
  },
  {
   "cell_type": "markdown",
   "metadata": {},
   "source": [
    "### Ex  : Quel résultat si on incrémente le chiffre de 2 d'une unité supplémentaire ? puis de 5 unités ?"
   ]
  },
  {
   "cell_type": "code",
   "execution_count": null,
   "metadata": {},
   "outputs": [],
   "source": []
  },
  {
   "cell_type": "markdown",
   "metadata": {},
   "source": [
    "###  Ex : Quelle est la deuxième lettre du mot \"LETTRE\" ? Quelles sont les trois dernières lettres du mot \"LETTRE\" ?"
   ]
  },
  {
   "cell_type": "code",
   "execution_count": null,
   "metadata": {},
   "outputs": [],
   "source": []
  },
  {
   "cell_type": "markdown",
   "metadata": {},
   "source": [
    "###  Ex : Comment énumérer efficacement tous les nombres entre 1 et 10 (sans les copier à la main) ?"
   ]
  },
  {
   "cell_type": "code",
   "execution_count": null,
   "metadata": {},
   "outputs": [],
   "source": []
  },
  {
   "cell_type": "markdown",
   "metadata": {},
   "source": [
    "###  Ex : Comment ajouter un \"s\" à un mot inscrit au singulier ?"
   ]
  },
  {
   "cell_type": "code",
   "execution_count": null,
   "metadata": {},
   "outputs": [],
   "source": []
  },
  {
   "cell_type": "markdown",
   "metadata": {},
   "source": [
    "### Ex : Peut-on ajouter une lettre à un nombre ? "
   ]
  },
  {
   "cell_type": "code",
   "execution_count": null,
   "metadata": {},
   "outputs": [],
   "source": []
  },
  {
   "cell_type": "code",
   "execution_count": null,
   "metadata": {},
   "outputs": [],
   "source": []
  },
  {
   "cell_type": "code",
   "execution_count": null,
   "metadata": {},
   "outputs": [],
   "source": []
  },
  {
   "cell_type": "code",
   "execution_count": null,
   "metadata": {},
   "outputs": [],
   "source": []
  },
  {
   "cell_type": "code",
   "execution_count": null,
   "metadata": {},
   "outputs": [],
   "source": []
  },
  {
   "cell_type": "markdown",
   "metadata": {},
   "source": [
    "### Ex : Comment créer un test pour n'afficher que les nombres supérieurs à 10 (et 10 sinon ?)"
   ]
  },
  {
   "cell_type": "code",
   "execution_count": null,
   "metadata": {},
   "outputs": [],
   "source": []
  },
  {
   "cell_type": "markdown",
   "metadata": {},
   "source": [
    "### Ex : Comment créer un test pour n'afficher que les nombres supérieurs à 10 et pairs ?"
   ]
  },
  {
   "cell_type": "code",
   "execution_count": 13,
   "metadata": {},
   "outputs": [],
   "source": []
  },
  {
   "cell_type": "markdown",
   "metadata": {},
   "source": [
    "### Ex : Comment créer un test pour vérifier qu'une proposition est juste ?"
   ]
  },
  {
   "cell_type": "code",
   "execution_count": null,
   "metadata": {},
   "outputs": [],
   "source": []
  },
  {
   "cell_type": "markdown",
   "metadata": {},
   "source": [
    "### Ex : Comment changer le type d'une variable ?"
   ]
  },
  {
   "cell_type": "code",
   "execution_count": null,
   "metadata": {},
   "outputs": [],
   "source": []
  },
  {
   "cell_type": "code",
   "execution_count": null,
   "metadata": {},
   "outputs": [],
   "source": []
  },
  {
   "cell_type": "code",
   "execution_count": null,
   "metadata": {},
   "outputs": [],
   "source": []
  },
  {
   "cell_type": "markdown",
   "metadata": {},
   "source": [
    "### Ex : Comment vérifier si un élément est dans une liste"
   ]
  },
  {
   "cell_type": "code",
   "execution_count": 2,
   "metadata": {},
   "outputs": [],
   "source": [
    "#Est-ce que 1) \"toto\" et 2) \"mickey\" sont dans la liste des mes amis ? \n",
    "liste_de_mes_amis = ['toto','personne']\n"
   ]
  },
  {
   "cell_type": "markdown",
   "metadata": {},
   "source": [
    "### Ex : Comment interagir avec une chaine de caractère"
   ]
  },
  {
   "cell_type": "code",
   "execution_count": 3,
   "metadata": {},
   "outputs": [],
   "source": [
    "#Séparer mon nom prenom et les rendre avec nom en majuscule, prenom en minuscule\n",
    "\n",
    "str_initial = \"John Doe\"\n",
    "\n",
    "\n",
    "#Pour les autres fonctions : jouez avec le poly !!!"
   ]
  },
  {
   "cell_type": "markdown",
   "metadata": {},
   "source": [
    "### Ex  : Jouons un peu avec LA LISTE des jours de la semaine"
   ]
  },
  {
   "cell_type": "code",
   "execution_count": 20,
   "metadata": {},
   "outputs": [],
   "source": [
    "#Créer une liste des jours de la semaine : "
   ]
  },
  {
   "cell_type": "code",
   "execution_count": 4,
   "metadata": {},
   "outputs": [
    {
     "name": "stdout",
     "output_type": "stream",
     "text": [
      "['lundi', 'mardi', 'mercredi', 'jeudi', 'vendredi', 'samedi', 'dimanche']\n"
     ]
    }
   ],
   "source": [
    "# #Méthode1 : \n",
    "liste_jours_de_la_semaine = ['lundi','mardi','mercredi','jeudi','vendredi','samedi','dimanche']\n",
    "\n",
    "print(liste_jours_de_la_semaine)"
   ]
  },
  {
   "cell_type": "code",
   "execution_count": 5,
   "metadata": {},
   "outputs": [
    {
     "name": "stdout",
     "output_type": "stream",
     "text": [
      "['lundi', 'mardi']\n"
     ]
    }
   ],
   "source": [
    "# Methode2 : \n",
    "liste_jours_de_la_semaine = []\n",
    "liste_jours_de_la_semaine.append('lundi')\n",
    "liste_jours_de_la_semaine.append('mardi')\n",
    "#...\n",
    "\n",
    "print(liste_jours_de_la_semaine)"
   ]
  },
  {
   "cell_type": "code",
   "execution_count": 23,
   "metadata": {},
   "outputs": [],
   "source": [
    "#Combien y a-t-il de jours dans la semaine ? "
   ]
  },
  {
   "cell_type": "code",
   "execution_count": null,
   "metadata": {},
   "outputs": [],
   "source": []
  },
  {
   "cell_type": "code",
   "execution_count": null,
   "metadata": {},
   "outputs": [],
   "source": []
  },
  {
   "cell_type": "code",
   "execution_count": 25,
   "metadata": {},
   "outputs": [],
   "source": [
    "#Et si on ne conservait que les jours travaillés ? "
   ]
  },
  {
   "cell_type": "code",
   "execution_count": 41,
   "metadata": {},
   "outputs": [],
   "source": [
    "liste_jours_de_la_semaine = ['lundi','mardi','mercredi','jeudi','vendredi','samedi','dimanche']\n",
    "#methode 1 : "
   ]
  },
  {
   "cell_type": "code",
   "execution_count": 42,
   "metadata": {},
   "outputs": [],
   "source": [
    "liste_jours_de_la_semaine = ['lundi','mardi','mercredi','jeudi','vendredi','samedi','dimanche']\n",
    "#methode 2 : \n"
   ]
  },
  {
   "cell_type": "code",
   "execution_count": 6,
   "metadata": {},
   "outputs": [],
   "source": [
    "#Et si on ajoutait une nouveau jour : le \"jourdi\" entre le 2ème et le 3ème jour\n"
   ]
  },
  {
   "cell_type": "markdown",
   "metadata": {},
   "source": [
    "### Ex : Comptons les nombres impairs jusqu'à 20 via la COMPREHENSION DE LISTE"
   ]
  },
  {
   "cell_type": "code",
   "execution_count": 7,
   "metadata": {},
   "outputs": [],
   "source": [
    "#Il existe une manière très élégante de créer des listes sur lesquelles s'appliquent des conditions.\n",
    "#Exemple : créons la liste des chiffres impairs compris entre 0 et 20 - compris (en une seule ligne idéalement)\n",
    "\n"
   ]
  },
  {
   "cell_type": "markdown",
   "metadata": {},
   "source": [
    "### Ex : Créez un DICTIONNAIRE avec comme clef, le numéro du jour de la semaine et en valeur le nom du jour correspondant"
   ]
  },
  {
   "cell_type": "code",
   "execution_count": 78,
   "metadata": {},
   "outputs": [],
   "source": [
    "# Créez un dictionnaire avec les jours de la semaine"
   ]
  },
  {
   "cell_type": "code",
   "execution_count": 79,
   "metadata": {},
   "outputs": [],
   "source": [
    "#Methode 1 : \n",
    "\n",
    "dict_jour_de_la_semaine = {}\n",
    "dict_jour_de_la_semaine[1]='lundi'\n",
    "dict_jour_de_la_semaine[2]='mardi'\n",
    "dict_jour_de_la_semaine[3]='mercredi'\n",
    "dict_jour_de_la_semaine[4]='jeudi'\n",
    "dict_jour_de_la_semaine[5]='vendredi'\n",
    "dict_jour_de_la_semaine[6]='samedi'\n",
    "dict_jour_de_la_semaine[7]='dimanche'"
   ]
  },
  {
   "cell_type": "code",
   "execution_count": 80,
   "metadata": {},
   "outputs": [],
   "source": [
    "#Methode 2 : \n",
    "\n",
    "dict_jour_de_la_semaine ={1:'lundi', 2 : 'mardi', 3: 'mercredi', \\\n",
    "                          4: 'jeudi', 5: 'vendredi', 6: 'samedi', 7 : 'dimanche'}\n",
    "\n",
    "#NB : le saut de ligne !!! \n",
    "#NB2 : how to comment entire blocks ?\n",
    "#NB3 : auto-completion !!!"
   ]
  },
  {
   "cell_type": "code",
   "execution_count": 81,
   "metadata": {},
   "outputs": [],
   "source": [
    "#Methode 3 :\n",
    "dict_jour_de_la_semaine = {}\n",
    "for num, jour in enumerate(liste_jours_de_la_semaine) : \n",
    "    dict_jour_de_la_semaine[num+1]=jour\n",
    "\n",
    "#NB : enum !"
   ]
  },
  {
   "cell_type": "code",
   "execution_count": 82,
   "metadata": {},
   "outputs": [
    {
     "data": {
      "text/plain": [
       "{1: 'lundi',\n",
       " 2: 'mardi',\n",
       " 3: 'jourdi',\n",
       " 4: 'mercredi',\n",
       " 5: 'jeudi',\n",
       " 6: 'vendredi',\n",
       " 7: 'samedi'}"
      ]
     },
     "execution_count": 82,
     "metadata": {},
     "output_type": "execute_result"
    }
   ],
   "source": [
    "dict_jour_de_la_semaine"
   ]
  },
  {
   "cell_type": "markdown",
   "metadata": {},
   "source": [
    "### Les tableaux numeriques - bref aperçu"
   ]
  },
  {
   "cell_type": "code",
   "execution_count": 83,
   "metadata": {},
   "outputs": [
    {
     "name": "stdout",
     "output_type": "stream",
     "text": [
      "[0 1]\n",
      "<class 'numpy.ndarray'>\n"
     ]
    }
   ],
   "source": [
    "#Nous reviendrons sur ce sujet lorsque nous aborderons la librairie pandas.\n",
    "import numpy\n",
    "a = numpy.array ( [0,1] )\n",
    "print(a)\n",
    "print(type(a))"
   ]
  },
  {
   "cell_type": "markdown",
   "metadata": {},
   "source": [
    "###  Ex : Comment copier une variable, une liste, etc. ?"
   ]
  },
  {
   "cell_type": "code",
   "execution_count": 9,
   "metadata": {},
   "outputs": [],
   "source": [
    "# Ce qui semble fonctionner pour une variable (type immuable)..."
   ]
  },
  {
   "cell_type": "code",
   "execution_count": 8,
   "metadata": {},
   "outputs": [],
   "source": [
    "#...ne fonctionne plus pour les listes et les dictionnaires (type immutable) !\n"
   ]
  },
  {
   "cell_type": "markdown",
   "metadata": {},
   "source": [
    "## Différence VALEUR vs. ADRESSE / REFERENCE\n",
    "\n",
    "Pour plus de détail, voir : \n",
    "\n",
    "https://miamondo.org/2017/02/16/python-copier-une-liste-avec-le-module-copy/\n",
    "\n",
    "Cette remarque s’applique à tout type modifiable, liste, dictionnaire ou toute autre classe. La suppression d’une variable n’implique pas la suppression de toutes les variables se référant à une seule et même instance de classe (sera en particulier le cas pour les dataframes, lorsque nous aborderons la question du module pandas -> .copy())"
   ]
  },
  {
   "cell_type": "markdown",
   "metadata": {},
   "source": [
    "**Reportez-vous à la cheat sheet !**"
   ]
  },
  {
   "cell_type": "markdown",
   "metadata": {},
   "source": [
    "## TESTS ET BOUCLES"
   ]
  },
  {
   "cell_type": "markdown",
   "metadata": {},
   "source": [
    "**Encore une fois, reportons nous à la cheat sheet !**"
   ]
  },
  {
   "cell_type": "markdown",
   "metadata": {},
   "source": [
    "La structure de base du test : \n",
    "\n",
    "- if, elif, else !\n",
    "\n",
    "Les deux types de boucles :\n",
    "\n",
    "- la boucle while\n",
    "- la boucle for\n"
   ]
  },
  {
   "cell_type": "markdown",
   "metadata": {},
   "source": [
    "### Ex : Reprenons notre exemple précédent sur les listes de la semaine"
   ]
  },
  {
   "cell_type": "code",
   "execution_count": 11,
   "metadata": {},
   "outputs": [],
   "source": [
    "#Vérifions si le \"jourdi\" existe dans notre liste ?\n"
   ]
  },
  {
   "cell_type": "markdown",
   "metadata": {},
   "source": [
    "### Ex : Clef / valeur dans un dictionnaire"
   ]
  },
  {
   "cell_type": "code",
   "execution_count": 10,
   "metadata": {},
   "outputs": [],
   "source": [
    "#Quelles clefs contient le dictionnaire ? \n"
   ]
  },
  {
   "cell_type": "code",
   "execution_count": 12,
   "metadata": {},
   "outputs": [],
   "source": [
    "#Et quel numéro (indice) a le \"lundi\" ? \n"
   ]
  },
  {
   "cell_type": "code",
   "execution_count": 13,
   "metadata": {},
   "outputs": [],
   "source": [
    "#Methode 2\n"
   ]
  },
  {
   "cell_type": "markdown",
   "metadata": {},
   "source": [
    "### Ex : Ouvrons notre premier fichier en python - et travaillons un peu nos listes / dictionnaires"
   ]
  },
  {
   "cell_type": "code",
   "execution_count": 14,
   "metadata": {},
   "outputs": [
    {
     "name": "stdout",
     "output_type": "stream",
     "text": [
      "['1 DUPONT Toto L3 Math-Eco ERASMUS\\n', '2 MARTIN Elise L3 Analyse-Eco ERASMUS\\n', '3 ZINZIN Antoine L3 Math-Eco\\n', '4 BLABLA Nicolas L3 Analyse-Eco\\n', '5 UPSALA David L3 Analyse-Eco Césure\\n', '6 DATA Scientist L3 Eco\\n', '7 NANTES Naoned L3 Eco_Appliquée\\n', '8 INSTRUMENT Demusique L3 Math-Eco Déléguée\\n', '9 NANANI Nanana L3 Econométrie\\n', '10 LACIGALE Etlafourmi L3 Analyse-Eco\\n', '11 BABAR Celeste L3 Analyse-Eco\\n', '12 LELOUP Etlagneau L3 MIASH']\n"
     ]
    }
   ],
   "source": [
    "\"\"\"Etape 0 : chargez les données du document liste_eleve.txt (cette étape est répétée pour toutes les questions \\\n",
    "qui suivent)\"\"\"\n",
    "\n",
    "with open(\"liste_eleve.txt\", \"r\") as f :\n",
    "    print(f.readlines())"
   ]
  },
  {
   "cell_type": "code",
   "execution_count": 15,
   "metadata": {},
   "outputs": [],
   "source": [
    "#Question 1 : lancer un script pour afficher tous les prénoms des élèves de la classe\n",
    "#et devant chaque prénom indiqué le numéro attribué à l'élève (ordre alphabétique des noms de famille)\n"
   ]
  },
  {
   "cell_type": "code",
   "execution_count": 17,
   "metadata": {},
   "outputs": [],
   "source": [
    "#Question 2: faites une liste des prenoms de la classes et affichez cette liste, triée par ordre \n",
    "#alphabétique\n",
    "\n",
    "liste_des_eleves = []"
   ]
  },
  {
   "cell_type": "code",
   "execution_count": 16,
   "metadata": {},
   "outputs": [],
   "source": [
    "#Question 3 : lancer un script pour afficher tous les prénoms des élèves de la classe qui \n",
    "#ont fait Analyse_Eco ou l'an passé\n"
   ]
  },
  {
   "cell_type": "code",
   "execution_count": 18,
   "metadata": {},
   "outputs": [],
   "source": [
    "#Question 4 : créez une liste de dictionnaire. Chaque dictionnaire se présentant de la sorte : \n",
    "#{'prenom':<le prenom>, 'nom':<le nom>, 'dernier_diplome_obtenu':<dernier diplome>,'filiere':<filiere>}\n",
    "\n",
    "les_infos_importantes = []"
   ]
  },
  {
   "cell_type": "code",
   "execution_count": 65,
   "metadata": {},
   "outputs": [],
   "source": [
    "#les_infos_importantes"
   ]
  },
  {
   "cell_type": "code",
   "execution_count": 19,
   "metadata": {},
   "outputs": [],
   "source": [
    "#Question 6 : affichez la liste des élèves du début de la liste, jusqu'au premier élève ayant fait\n",
    "#Eco l'an passé (à partir du dictionnaire les infos importantes)\n"
   ]
  },
  {
   "cell_type": "markdown",
   "metadata": {},
   "source": [
    "### Remarques sur le mot clef \"with\""
   ]
  },
  {
   "cell_type": "code",
   "execution_count": 20,
   "metadata": {},
   "outputs": [
    {
     "name": "stdout",
     "output_type": "stream",
     "text": [
      "['1 DUPONT Toto L3 Math-Eco ERASMUS\\n', '2 MARTIN Elise L3 Analyse-Eco ERASMUS\\n', '3 ZINZIN Antoine L3 Math-Eco\\n', '4 BLABLA Nicolas L3 Analyse-Eco\\n', '5 UPSALA David L3 Analyse-Eco Césure\\n', '6 DATA Scientist L3 Eco\\n', '7 NANTES Naoned L3 Eco_Appliquée\\n', '8 INSTRUMENT Demusique L3 Math-Eco Déléguée\\n', '9 NANANI Nanana L3 Econométrie\\n', '10 LACIGALE Etlafourmi L3 Analyse-Eco\\n', '11 BABAR Celeste L3 Analyse-Eco\\n', '12 LELOUP Etlagneau L3 MIASH']\n"
     ]
    }
   ],
   "source": [
    "#NB : il existe différents modes pour ouvrir un document (r, w, w+, etc.)\n",
    "#D'autres instructions permettent de lire plus rapidement les lignes (exemple ci-dessous)\n",
    "\n",
    "with open('liste_eleve.txt', 'r') as r : \n",
    "    print(r.readlines())"
   ]
  },
  {
   "cell_type": "markdown",
   "metadata": {},
   "source": [
    "- **Ouverture des fichiers** : **attention** à ne pas écraser, à ouvrir, avec le bon mode, etc.\n",
    "- En Python, **le mode with** (qui s'utilise assez fréquemment), permet d'appliquer une condition à tout ce qui est dans l'indentation - et uniquement à cela. Pour l'ouverture d'un fichier, cela permet par exemple de rendre implicite la commande close() - et les désagréments qui vont avec (voir par exemple : https://openclassrooms.com/fr/courses/235344-apprenez-a-programmer-en-python/232431-utilisez-des-fichiers)\n"
   ]
  },
  {
   "cell_type": "markdown",
   "metadata": {},
   "source": [
    "## Librairie os - Parce qu'il n'est jamais trop tôt pour prendre de bonnes habitudes\n",
    "\n",
    "Pour manipuler les **chemins vers les différents documents**, il est conseillé de se servir de la **librairie os**. \n",
    "\n",
    "Celle-ci permet de :\n",
    "\n",
    "- récupérer le répertoire courant (**os.getcwd()**), \n",
    "- de récupérer le nom du fichier ou le path du répertoire dans lequel est contenu un document (**os.dirname / os.basename**), \n",
    "- de lister tous les documents contenus dans un répertoire : **os.listdir()**, \n",
    "- ou encore de faire de belles jointures (path + nom du document) en évitant les problèmes de version (/ vs \\\\, etc.) : **os.path.join**"
   ]
  },
  {
   "cell_type": "markdown",
   "metadata": {},
   "source": [
    "### Ex: Affichez tous les éléments contenus dans le répertoire courant"
   ]
  },
  {
   "cell_type": "code",
   "execution_count": null,
   "metadata": {
    "collapsed": true
   },
   "outputs": [],
   "source": [
    "import os\n",
    "\n",
    "for element in os.listdir(os.getcwd()):\n",
    "    print(element)"
   ]
  },
  {
   "cell_type": "markdown",
   "metadata": {},
   "source": [
    "## [Pour aller plus loin] Le format JSON"
   ]
  },
  {
   "cell_type": "code",
   "execution_count": 73,
   "metadata": {},
   "outputs": [],
   "source": [
    "#SAUVERGARDER EN JSON\n",
    "import json\n",
    "\n",
    "with open('les_infos_importantes.json', 'w') as fp:\n",
    "    json.dump(les_infos_importantes, fp)"
   ]
  },
  {
   "cell_type": "markdown",
   "metadata": {},
   "source": [
    "### JSON ! "
   ]
  },
  {
   "cell_type": "markdown",
   "metadata": {},
   "source": [
    "Le json est un format très pratique d'**échange de données**. Il est utile pour communiquer des informations entre systèmes (quelques soit le langage de programmation) et tend à supplanter son ancêtre (ceci est un abus de langage), le langage à balise .xml. \n",
    "\n",
    "Il est utilisé pour les interfaces d'échanges entre système (**API**).\n",
    "\n",
    "En Python, **le json peut se charger comme un dictionnaire** et c'est bien pratique !"
   ]
  },
  {
   "cell_type": "markdown",
   "metadata": {},
   "source": [
    "## [Pour aller plus loin] Les PEP"
   ]
  },
  {
   "cell_type": "markdown",
   "metadata": {},
   "source": [
    "How to code well ? \n",
    "\n",
    "https://www.python.org/dev/peps/pep-0008/"
   ]
  }
 ],
 "metadata": {
  "kernelspec": {
   "display_name": "Python 3",
   "language": "python",
   "name": "python3"
  },
  "language_info": {
   "codemirror_mode": {
    "name": "ipython",
    "version": 3
   },
   "file_extension": ".py",
   "mimetype": "text/x-python",
   "name": "python",
   "nbconvert_exporter": "python",
   "pygments_lexer": "ipython3",
   "version": "3.8.1"
  },
  "toc": {
   "base_numbering": 1,
   "nav_menu": {},
   "number_sections": true,
   "sideBar": true,
   "skip_h1_title": false,
   "title_cell": "Table of Contents",
   "title_sidebar": "Contents",
   "toc_cell": true,
   "toc_position": {
    "height": "calc(100% - 180px)",
    "left": "10px",
    "top": "150px",
    "width": "295.167px"
   },
   "toc_section_display": true,
   "toc_window_display": true
  }
 },
 "nbformat": 4,
 "nbformat_minor": 2
}
