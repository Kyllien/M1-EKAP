{
 "cells": [
  {
   "cell_type": "markdown",
   "metadata": {
    "toc": true
   },
   "source": [
    "<h1>Table of Contents<span class=\"tocSkip\"></span></h1>\n",
    "<div class=\"toc\"><ul class=\"toc-item\"><li><span><a href=\"#Exercice-:-prise-en-main-des-fonctions\" data-toc-modified-id=\"Exercice-:-prise-en-main-des-fonctions-1\"><span class=\"toc-item-num\">1&nbsp;&nbsp;</span>Exercice : prise en main des fonctions</a></span><ul class=\"toc-item\"><li><ul class=\"toc-item\"><li><span><a href=\"#Le-code-César\" data-toc-modified-id=\"Le-code-César-1.0.1\"><span class=\"toc-item-num\">1.0.1&nbsp;&nbsp;</span>Le code César</a></span></li></ul></li></ul></li></ul></div>"
   ]
  },
  {
   "cell_type": "markdown",
   "metadata": {},
   "source": [
    "# Exercice : prise en main des fonctions"
   ]
  },
  {
   "cell_type": "markdown",
   "metadata": {
    "collapsed": true
   },
   "source": [
    "**CONSIGNE**\n",
    "\n",
    "Ecrivez une fonction qui prend deux paramètres en entrée : un texte à chiffrer et un nombre de décalage (\"clef du code\") afin de réaliser ce fameux code césar : https://fr.wikipedia.org/wiki/Chiffrement_par_d%C3%A9calage\n",
    "\n",
    "Par exemple : texte à chiffrer : \"CECIESTUNTEXTEACHIFFRER\" (supprimez les espaces pour plus de facilité) ; décalage : 3\n",
    "\n",
    "Hints : les fonction chr() et ord() permettent d'identifier le code Unicode d'un caractère (et inversement). Les majuscule occupent la plage de valeur qui commence à 65. ord('A') = 65 et chr(65) = 'A'."
   ]
  },
  {
   "cell_type": "markdown",
   "metadata": {},
   "source": [
    "### Le code César"
   ]
  },
  {
   "cell_type": "code",
   "execution_count": 1,
   "metadata": {},
   "outputs": [],
   "source": [
    "def code_cesar():\n",
    "    \n",
    "    return \n",
    "        "
   ]
  }
 ],
 "metadata": {
  "kernelspec": {
   "display_name": "Python 3",
   "language": "python",
   "name": "python3"
  },
  "language_info": {
   "codemirror_mode": {
    "name": "ipython",
    "version": 3
   },
   "file_extension": ".py",
   "mimetype": "text/x-python",
   "name": "python",
   "nbconvert_exporter": "python",
   "pygments_lexer": "ipython3",
   "version": "3.8.1"
  },
  "toc": {
   "base_numbering": 1,
   "nav_menu": {},
   "number_sections": true,
   "sideBar": true,
   "skip_h1_title": false,
   "title_cell": "Table of Contents",
   "title_sidebar": "Contents",
   "toc_cell": true,
   "toc_position": {
    "height": "calc(100% - 180px)",
    "left": "10px",
    "top": "150px",
    "width": "165px"
   },
   "toc_section_display": true,
   "toc_window_display": true
  }
 },
 "nbformat": 4,
 "nbformat_minor": 2
}
