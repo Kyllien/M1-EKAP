{
 "cells": [
  {
   "cell_type": "markdown",
   "metadata": {
    "toc": true
   },
   "source": [
    "<h1>Table of Contents<span class=\"tocSkip\"></span></h1>\n",
    "<div class=\"toc\"><ul class=\"toc-item\"><li><span><a href=\"#Tour-d'horizon-de-la-syntaxe-python-:-organiser-son-code-(fonction,-classes-et-bonnes-pratiques,-etc.)\" data-toc-modified-id=\"Tour-d'horizon-de-la-syntaxe-python-:-organiser-son-code-(fonction,-classes-et-bonnes-pratiques,-etc.)-1\"><span class=\"toc-item-num\">1&nbsp;&nbsp;</span>Tour d'horizon de la syntaxe python : organiser son code (fonction, classes et bonnes pratiques, etc.)</a></span><ul class=\"toc-item\"><li><span><a href=\"#Pourquoi-organiser-son-code-?\" data-toc-modified-id=\"Pourquoi-organiser-son-code-?-1.1\"><span class=\"toc-item-num\">1.1&nbsp;&nbsp;</span>Pourquoi organiser son code ?</a></span><ul class=\"toc-item\"><li><span><a href=\"#Eviter-les-copiers-collers-malheureux\" data-toc-modified-id=\"Eviter-les-copiers-collers-malheureux-1.1.1\"><span class=\"toc-item-num\">1.1.1&nbsp;&nbsp;</span>Eviter les copiers-collers malheureux</a></span></li><li><span><a href=\"#Faciliter-la-lisibilité\" data-toc-modified-id=\"Faciliter-la-lisibilité-1.1.2\"><span class=\"toc-item-num\">1.1.2&nbsp;&nbsp;</span>Faciliter la lisibilité</a></span></li></ul></li></ul></li><li><span><a href=\"#Les-fonctions-:-les-règles-de-base\" data-toc-modified-id=\"Les-fonctions-:-les-règles-de-base-2\"><span class=\"toc-item-num\">2&nbsp;&nbsp;</span>Les fonctions : les règles de base</a></span><ul class=\"toc-item\"><li><ul class=\"toc-item\"><li><span><a href=\"#Exercice-:-prise-en-main-des-fonctions\" data-toc-modified-id=\"Exercice-:-prise-en-main-des-fonctions-2.0.1\"><span class=\"toc-item-num\">2.0.1&nbsp;&nbsp;</span>Exercice : prise en main des fonctions</a></span></li></ul></li></ul></li><li><span><a href=\"#Les-classes-:-vers-la-programmation-orientée-objet\" data-toc-modified-id=\"Les-classes-:-vers-la-programmation-orientée-objet-3\"><span class=\"toc-item-num\">3&nbsp;&nbsp;</span>Les classes : vers la programmation orientée objet</a></span><ul class=\"toc-item\"><li><ul class=\"toc-item\"><li><span><a href=\"#Ex:-Dessine-moi-une-voiture\" data-toc-modified-id=\"Ex:-Dessine-moi-une-voiture-3.0.1\"><span class=\"toc-item-num\">3.0.1&nbsp;&nbsp;</span>Ex: Dessine moi une voiture</a></span></li></ul></li></ul></li><li><span><a href=\"#Autres-trucs-et-astuces\" data-toc-modified-id=\"Autres-trucs-et-astuces-4\"><span class=\"toc-item-num\">4&nbsp;&nbsp;</span>Autres trucs et astuces</a></span></li><li><span><a href=\"#Pour-aller-plus-loin\" data-toc-modified-id=\"Pour-aller-plus-loin-5\"><span class=\"toc-item-num\">5&nbsp;&nbsp;</span>Pour aller plus loin</a></span></li></ul></div>"
   ]
  },
  {
   "cell_type": "markdown",
   "metadata": {},
   "source": [
    "# Tour d'horizon de la syntaxe python : organiser son code (fonction, classes et bonnes pratiques, etc.)"
   ]
  },
  {
   "cell_type": "markdown",
   "metadata": {},
   "source": [
    "Les fondamentaux de la syntaxe python sont bien résumés dans un poly qui n'est plus maintenu mais qui reste globalement à jour (Xavier Dupré - ENSAE). Il vous est fortement recommandé, par vous-mêmes, d'être curieux et d'aller fouiller sur le site de Xavier Dupré (une mine d'or !!!)\n",
    "\n",
    "**Dans ce second temps, nous allons nous intéresser à la bonne manière d'organiser son code : fonctions, classes et bonnes pratiques**"
   ]
  },
  {
   "cell_type": "markdown",
   "metadata": {},
   "source": [
    "http://www.xavierdupre.fr/app/teachpyx/helpsphinx/c_resume/python_sheet.html#le-langage\n",
    "\n",
    "\n",
    "http://www.xavierdupre.fr/enseignement/initiation/resume_utile.pdf"
   ]
  },
  {
   "cell_type": "markdown",
   "metadata": {},
   "source": [
    "## Pourquoi organiser son code ? "
   ]
  },
  {
   "cell_type": "markdown",
   "metadata": {},
   "source": [
    "### Eviter les copiers-collers malheureux"
   ]
  },
  {
   "cell_type": "code",
   "execution_count": 1,
   "metadata": {},
   "outputs": [
    {
     "name": "stdout",
     "output_type": "stream",
     "text": [
      "0\n",
      "2\n",
      "4\n",
      "6\n",
      "1\n",
      "3\n",
      "5\n",
      "7\n",
      "a\n",
      "a\n",
      "b\n",
      "b\n",
      "a\n",
      "b\n",
      "c\n",
      "d\n"
     ]
    }
   ],
   "source": [
    "# Il vaut mieux éviter : \n",
    "\n",
    "for i in [0,2,4,6] : \n",
    "    print(i)\n",
    "for i in [1,3,5,7]:\n",
    "    print(i)\n",
    "for i in ['a','a','b','b']:\n",
    "    print(i)\n",
    "for i in ['a','b','c','d']:\n",
    "    print(i)"
   ]
  },
  {
   "cell_type": "code",
   "execution_count": 2,
   "metadata": {},
   "outputs": [
    {
     "name": "stdout",
     "output_type": "stream",
     "text": [
      "0\n",
      "2\n",
      "4\n",
      "6\n",
      "1\n",
      "3\n",
      "5\n",
      "7\n",
      "a\n",
      "a\n",
      "b\n",
      "b\n",
      "a\n",
      "b\n",
      "c\n",
      "d\n"
     ]
    }
   ],
   "source": [
    "#et préférer :\n",
    "\n",
    "def print_i(liste):\n",
    "    for i in liste : \n",
    "        print(i)\n",
    "\n",
    "print_i([0,2,4,6])\n",
    "print_i([1,3,5,7])\n",
    "print_i(['a','a','b','b'])\n",
    "print_i(['a','b','c','d'])"
   ]
  },
  {
   "cell_type": "markdown",
   "metadata": {},
   "source": [
    "### Faciliter la lisibilité\n",
    "\n",
    "\"Un code est plus souvent lu qu'écrit !!!\""
   ]
  },
  {
   "cell_type": "code",
   "execution_count": 3,
   "metadata": {
    "collapsed": true
   },
   "outputs": [],
   "source": [
    "def print_each_element_of_the_list(liste_initiale):\n",
    "    \"\"\"Cette fonction a pour objectif de lister tous les elements passes en parametre\n",
    "    \n",
    "    :param liste_initiale: liste dont les elements sont à afficher \n",
    "    :type liste initiale: list\n",
    "    \"\"\"\n",
    "    for element in liste_initiale:\n",
    "        print(element)\n",
    "    pass"
   ]
  },
  {
   "cell_type": "code",
   "execution_count": null,
   "metadata": {
    "collapsed": true
   },
   "outputs": [],
   "source": [
    "#Petit test : le maj + tab (pour obtenir rapidement de l'aide sur une fonction)\n",
    "print_each_element_of_the_list("
   ]
  },
  {
   "cell_type": "markdown",
   "metadata": {},
   "source": [
    "# Les fonctions : les règles de base "
   ]
  },
  {
   "cell_type": "markdown",
   "metadata": {},
   "source": [
    "**1) une fonction en python s'écrit comme suit :** \n",
    "\n",
    "`def <nom de la fonction>(<parametre>):\n",
    "    <instructions>\n",
    "    return <donnees a renvoyer>`\n",
    "\n",
    "**2) Une variable créée à l'intérieure d'une fonction n'existe pas à l'extérieur : c'est une variable locale**\n",
    "\n",
    "**3) Au premier return rencontré, la fonction \"s'arrête\" (et renvoie la valeur prévue dans le return)**\n",
    "\n",
    "**4) Sans le mot clef \"return\", la valeur retournée est None**\n",
    "\n",
    "Attention, le `return \"\"` ou le `return None` n'est pas un `return \"Nothing\"`\n",
    "\n",
    "**4) Une fonction peut être récursive et s'appliquer à elle-même**\n",
    "\n",
    "`def recursive(z):\n",
    "    if X/2 < 1 : \n",
    "        return 1\n",
    "    else :\n",
    "        return recursive(z/2)+1`\n",
    "        \n",
    "**5) Par convention, on note les fonctions en minuscules avec des underscores pour séparer les noms**"
   ]
  },
  {
   "cell_type": "code",
   "execution_count": 13,
   "metadata": {
    "collapsed": true
   },
   "outputs": [],
   "source": [
    "def add(x,y):\n",
    "    if x > 0 :\n",
    "        z=x+y\n",
    "        return z"
   ]
  },
  {
   "cell_type": "code",
   "execution_count": 15,
   "metadata": {
    "collapsed": true
   },
   "outputs": [],
   "source": [
    "def polynome_degre_deux(x, a, b, c):\n",
    "    z = a*x^2 +b*x +c\n",
    "    return z"
   ]
  },
  {
   "cell_type": "code",
   "execution_count": 16,
   "metadata": {},
   "outputs": [
    {
     "data": {
      "text/plain": [
       "5"
      ]
     },
     "execution_count": 16,
     "metadata": {},
     "output_type": "execute_result"
    }
   ],
   "source": [
    "polynome_degre_deux(3,1,1,1)"
   ]
  },
  {
   "cell_type": "code",
   "execution_count": 14,
   "metadata": {
    "collapsed": true
   },
   "outputs": [],
   "source": [
    "def polynome(x, coefficient ):\n",
    "    return sum([ x**i * c for i,c in enumerate(coefficient) ])"
   ]
  },
  {
   "cell_type": "markdown",
   "metadata": {},
   "source": [
    "### Exercice : prise en main des fonctions"
   ]
  },
  {
   "cell_type": "code",
   "execution_count": 1,
   "metadata": {
    "collapsed": true
   },
   "outputs": [],
   "source": [
    "#Fonctions \"triviales\" : def afficher un parametre, etc."
   ]
  },
  {
   "cell_type": "code",
   "execution_count": null,
   "metadata": {
    "collapsed": true
   },
   "outputs": [],
   "source": [
    "#Cf. correction en cours"
   ]
  },
  {
   "cell_type": "markdown",
   "metadata": {},
   "source": [
    "# Les classes : vers la programmation orientée objet "
   ]
  },
  {
   "cell_type": "markdown",
   "metadata": {},
   "source": [
    "### Ex: Dessine moi une voiture"
   ]
  },
  {
   "cell_type": "code",
   "execution_count": 1,
   "metadata": {},
   "outputs": [],
   "source": [
    "#Creez un classe qui permette d'instancer des voitures. Les voitures se caractérisent \n",
    "#par une marque et par une vitesse \n",
    "\n",
    "#NB : par convention, les classes s'écrivent en \"CamelCase\"\n",
    "#Les \"fonctions\" présentent dans les classes sont appelées \"méthodes\""
   ]
  },
  {
   "cell_type": "code",
   "execution_count": 2,
   "metadata": {},
   "outputs": [],
   "source": [
    "class Voiture() : \n",
    "    def __init__(self, desc, vit):\n",
    "        self.description = desc\n",
    "        self.vitesse = vit\n",
    "        \n",
    "    def __del__(self):\n",
    "        print(\"La voiture, \" + self.description + \" a été détruite\")\n",
    "        \n",
    "    def accelerer(self, valeur):\n",
    "        self.vitesse += valeur\n",
    "        self.etat_des_lieux()\n",
    "        \n",
    "    def etat_des_lieux(self):\n",
    "        print(self.description, \"roule a\", self.vitesse, \"km/h\")\n",
    "        "
   ]
  },
  {
   "cell_type": "code",
   "execution_count": 3,
   "metadata": {},
   "outputs": [],
   "source": [
    "voiture1 = Voiture(\"Mercedes classe A\", 80)"
   ]
  },
  {
   "cell_type": "code",
   "execution_count": 4,
   "metadata": {},
   "outputs": [
    {
     "data": {
      "text/plain": [
       "<__main__.Voiture at 0x7f4b1c1f08d0>"
      ]
     },
     "execution_count": 4,
     "metadata": {},
     "output_type": "execute_result"
    }
   ],
   "source": [
    "voiture1"
   ]
  },
  {
   "cell_type": "code",
   "execution_count": 5,
   "metadata": {},
   "outputs": [
    {
     "name": "stdout",
     "output_type": "stream",
     "text": [
      "Mercedes classe A roule a 80 km/h\n"
     ]
    }
   ],
   "source": [
    "voiture1.etat_des_lieux()"
   ]
  },
  {
   "cell_type": "code",
   "execution_count": 6,
   "metadata": {},
   "outputs": [
    {
     "name": "stdout",
     "output_type": "stream",
     "text": [
      "Mercedes classe A roule a 100 km/h\n"
     ]
    }
   ],
   "source": [
    "voiture1.accelerer(20)"
   ]
  },
  {
   "cell_type": "code",
   "execution_count": 7,
   "metadata": {},
   "outputs": [
    {
     "name": "stdout",
     "output_type": "stream",
     "text": [
      "Mercedes classe A roule a 150 km/h\n"
     ]
    }
   ],
   "source": [
    "voiture1.accelerer(50)"
   ]
  },
  {
   "cell_type": "code",
   "execution_count": 8,
   "metadata": {},
   "outputs": [],
   "source": [
    "del voiture1"
   ]
  },
  {
   "cell_type": "markdown",
   "metadata": {},
   "source": [
    "# Autres trucs et astuces"
   ]
  },
  {
   "cell_type": "markdown",
   "metadata": {},
   "source": [
    "**Voir la fin du poly cheat sheet de Xavier Dupré. Des questions ? **"
   ]
  },
  {
   "cell_type": "markdown",
   "metadata": {},
   "source": [
    "# Pour aller plus loin"
   ]
  },
  {
   "cell_type": "markdown",
   "metadata": {},
   "source": [
    "https://www.codingame.com/"
   ]
  }
 ],
 "metadata": {
  "kernelspec": {
   "display_name": "Python 3",
   "language": "python",
   "name": "python3"
  },
  "language_info": {
   "codemirror_mode": {
    "name": "ipython",
    "version": 3
   },
   "file_extension": ".py",
   "mimetype": "text/x-python",
   "name": "python",
   "nbconvert_exporter": "python",
   "pygments_lexer": "ipython3",
   "version": "3.8.1"
  },
  "toc": {
   "base_numbering": 1,
   "nav_menu": {},
   "number_sections": true,
   "sideBar": true,
   "skip_h1_title": false,
   "title_cell": "Table of Contents",
   "title_sidebar": "Contents",
   "toc_cell": true,
   "toc_position": {
    "height": "calc(100% - 180px)",
    "left": "10px",
    "top": "150px",
    "width": "287.167px"
   },
   "toc_section_display": true,
   "toc_window_display": true
  }
 },
 "nbformat": 4,
 "nbformat_minor": 2
}
